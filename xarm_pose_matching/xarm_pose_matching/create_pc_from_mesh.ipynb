{
 "cells": [
  {
   "cell_type": "markdown",
   "metadata": {},
   "source": [
    "# 2. Create a point cloud from STL file"
   ]
  },
  {
   "cell_type": "markdown",
   "metadata": {},
   "source": [
    "The following script takes an existing STL file as an input, translating it into a point cloud. "
   ]
  },
  {
   "cell_type": "code",
   "execution_count": 18,
   "metadata": {},
   "outputs": [],
   "source": [
    "import open3d as o3d"
   ]
  },
  {
   "cell_type": "code",
   "execution_count": 19,
   "metadata": {},
   "outputs": [],
   "source": [
    "mesh_path = \"/home/jjj/xarm_kinect_ros2/src/xarm_pose_matching/stl/RB26_RWD_Oil_Pan_STL 3.stl\"\n",
    "mesh = o3d.io.read_triangle_mesh(mesh_path)"
   ]
  },
  {
   "cell_type": "markdown",
   "metadata": {},
   "source": [
    "You can decide the number of points that a target point cloud is going to have. In my case, starting with a point cloud of 10,000 which is going to be scaled later gave me acceptable results. "
   ]
  },
  {
   "cell_type": "code",
   "execution_count": 20,
   "metadata": {},
   "outputs": [],
   "source": [
    "number_of_points = 50000 # Ajust this number as you find it convenient. 70000\n",
    "pcd = mesh.sample_points_poisson_disk(number_of_points)"
   ]
  },
  {
   "cell_type": "code",
   "execution_count": 21,
   "metadata": {},
   "outputs": [],
   "source": [
    "o3d.visualization.draw_geometries([pcd])"
   ]
  },
  {
   "cell_type": "markdown",
   "metadata": {},
   "source": [
    "After having generated and visualized the point cloud, you save it. "
   ]
  },
  {
   "cell_type": "code",
   "execution_count": 22,
   "metadata": {},
   "outputs": [
    {
     "data": {
      "text/plain": [
       "True"
      ]
     },
     "execution_count": 22,
     "metadata": {},
     "output_type": "execute_result"
    }
   ],
   "source": [
    "#save_mesh_to_pc_path = \"C:\\\\Users\\\\gusta\\\\Desktop\\\\ITESM_Desktop\\\\maestria\\\\tesis\\\\TercerSemestre\\\\realTimeICP\\\\refined_one_img_process\\\\results\\\\model_point_cloud\\\\output_10000.ply\"\n",
    "#o3d.io.write_point_cloud(save_mesh_to_pc_path, pcd)\n",
    "\n",
    "o3d.io.write_point_cloud(\"/home/jjj/xarm_kinect_ros2/src/xarm_pose_matching//ply/mypart_v1.ply\", pcd)\n"
   ]
  },
  {
   "cell_type": "markdown",
   "metadata": {},
   "source": [
    "Next up, you can move to \"pc_aligning_and_scaling\""
   ]
  }
 ],
 "metadata": {
  "kernelspec": {
   "display_name": "open3d",
   "language": "python",
   "name": "python3"
  },
  "language_info": {
   "codemirror_mode": {
    "name": "ipython",
    "version": 3
   },
   "file_extension": ".py",
   "mimetype": "text/x-python",
   "name": "python",
   "nbconvert_exporter": "python",
   "pygments_lexer": "ipython3",
   "version": "3.10.12"
  }
 },
 "nbformat": 4,
 "nbformat_minor": 2
}
