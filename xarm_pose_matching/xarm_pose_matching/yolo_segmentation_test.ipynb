{
 "cells": [
  {
   "cell_type": "markdown",
   "id": "ffcd93d8",
   "metadata": {},
   "source": [
    "# Segmentation TEST"
   ]
  },
  {
   "cell_type": "code",
   "execution_count": 1,
   "id": "0af64682",
   "metadata": {},
   "outputs": [
    {
     "name": "stdout",
     "output_type": "stream",
     "text": [
      "Jupyter environment detected. Enabling Open3D WebVisualizer.\n",
      "[Open3D INFO] WebRTC GUI backend enabled.\n",
      "[Open3D INFO] WebRTCWindowSystem: HTTP handshake server disabled.\n"
     ]
    }
   ],
   "source": [
    "import open3d as o3d\n",
    "import numpy as np\n",
    "from ultralytics import YOLO as YOLO\n",
    "import matplotlib.pyplot as plt\n",
    "import os\n",
    "import sys\n",
    "import cv2\n",
    "import trimesh\n",
    "import cvzone"
   ]
  },
  {
   "cell_type": "code",
   "execution_count": 2,
   "id": "469eca87",
   "metadata": {},
   "outputs": [],
   "source": [
    "yolo_model_path = \"/home/brad/dev_ws/src/xarm_pose_matching/xarm_pose_matching/model/Segmentation_YOLO_v2.pt\"\n",
    "rgb_image_path = \"/home/brad/dev_ws/src/xarm_pose_matching/xarm_pose_matching/images/data/color/00002.jpg\"\n",
    "depth_image_path = \"/home/brad/dev_ws/src/xarm_pose_matching/xarm_pose_matching/images/data/depth/00002.png\"\n",
    "rgb_image =   cv2.imread(rgb_image_path)\n",
    "depth_image = cv2.imread(depth_image_path, cv2.IMREAD_UNCHANGED) \n",
    "model = YOLO(yolo_model_path)"
   ]
  },
  {
   "cell_type": "markdown",
   "id": "5366c423",
   "metadata": {},
   "source": [
    "### Inference with YOLO"
   ]
  },
  {
   "cell_type": "code",
   "execution_count": null,
   "id": "4b7884cd",
   "metadata": {},
   "outputs": [
    {
     "name": "stdout",
     "output_type": "stream",
     "text": [
      "\n",
      "0: 384x640 1 part, 58.5ms\n",
      "Speed: 2.4ms preprocess, 58.5ms inference, 1.8ms postprocess per image at shape (1, 3, 384, 640)\n"
     ]
    },
    {
     "ename": "",
     "evalue": "",
     "output_type": "error",
     "traceback": [
      "\u001b[1;31mThe Kernel crashed while executing code in the current cell or a previous cell. \n",
      "\u001b[1;31mPlease review the code in the cell(s) to identify a possible cause of the failure. \n",
      "\u001b[1;31mClick <a href='https://aka.ms/vscodeJupyterKernelCrash'>here</a> for more info. \n",
      "\u001b[1;31mView Jupyter <a href='command:jupyter.viewOutput'>log</a> for further details."
     ]
    }
   ],
   "source": [
    "results = model(rgb_image)\n",
    "\n",
    "result = results[0]\n",
    "\n",
    "# Extraer las cajas, las etiquetas y las probabilidades\n",
    "boxes = result.boxes.xywh  # Cajas en formato [x, y, w, h]\n",
    "confidences = result.boxes.conf  # Confianza\n",
    "labels = result.names  # Nombres de las clases\n",
    "\n",
    "# Dibujar las cajas delimitadoras en la imagen original\n",
    "for i in range(len(boxes)):\n",
    "    # Convertir de formato [x, y, w, h] a [x1, y1, x2, y2]\n",
    "    x, y, w, h = boxes[i]\n",
    "    x1, y1, x2, y2 = int(x - w / 2), int(y - h / 2), int(x + w / 2), int(y + h / 2)\n",
    "    \n",
    "    label = labels[int(result.boxes.cls[i])]  # Obtener el nombre de la clase\n",
    "    confidence = confidences[i]  # Obtener la confianza\n",
    "\n",
    "    # Dibujar el rectángulo\n",
    "    cv2.rectangle(rgb_image, (x1, y1), (x2, y2), (255, 0, 0), 2)\n",
    "    # Poner el texto de la clase y la probabilidad\n",
    "    cv2.putText(rgb_image, f\"{label} {confidence:.2f}\", (x1, y1 - 10),\n",
    "                cv2.FONT_HERSHEY_SIMPLEX, 0.5, (0, 255, 0), 2)\n",
    "\n",
    "# Mostrar la imagen con las predicciones\n",
    "cv2.imshow(\"Segmentación YOLO\", rgb_image)\n"
   ]
  }
 ],
 "metadata": {
  "kernelspec": {
   "display_name": "xarm",
   "language": "python",
   "name": "python3"
  },
  "language_info": {
   "codemirror_mode": {
    "name": "ipython",
    "version": 3
   },
   "file_extension": ".py",
   "mimetype": "text/x-python",
   "name": "python",
   "nbconvert_exporter": "python",
   "pygments_lexer": "ipython3",
   "version": "3.10.12"
  }
 },
 "nbformat": 4,
 "nbformat_minor": 5
}
